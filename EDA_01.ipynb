{
 "cells": [
  {
   "cell_type": "markdown",
   "id": "c645d2b4",
   "metadata": {},
   "source": [
    "## Dataset: Renewable Energy (1960-2023)\n",
    "[Fuente](https://www.kaggle.com/datasets/imtkaggleteam/renewable-energy-1960-2023/data)"
   ]
  },
  {
   "cell_type": "code",
   "execution_count": 1,
   "metadata": {},
   "outputs": [],
   "source": [
    "# Tratamiento de datos\n",
    "# -----------------------------------------------------------------------\n",
    "import pandas as pd\n",
    "import numpy as np\n",
    "\n",
    "# Visualización\n",
    "# ------------------------------------------------------------------------------\n",
    "import matplotlib.pyplot as plt\n",
    "import seaborn as sns\n",
    "\n",
    "# Evaluar linealidad de las relaciones entre las variables\n",
    "# y la distribución de las variables\n",
    "# ------------------------------------------------------------------------------\n",
    "#import scipy.stats as stats\n",
    "import scipy.stats as stats\n",
    "from scipy.stats import shapiro, kstest\n",
    "\n",
    "# Configuración\n",
    "# -----------------------------------------------------------------------\n",
    "pd.set_option('display.max_columns', None) # para poder visualizar todas las columnas de los DataFrames \n",
    "\n",
    "\n",
    "# Gestión de los warnings\n",
    "# -----------------------------------------------------------------------\n",
    "import warnings\n",
    "warnings.filterwarnings(\"ignore\")"
   ]
  },
  {
   "cell_type": "code",
   "execution_count": 49,
   "id": "c2be9516",
   "metadata": {},
   "outputs": [
    {
     "data": {
      "text/html": [
       "<div>\n",
       "<style scoped>\n",
       "    .dataframe tbody tr th:only-of-type {\n",
       "        vertical-align: middle;\n",
       "    }\n",
       "\n",
       "    .dataframe tbody tr th {\n",
       "        vertical-align: top;\n",
       "    }\n",
       "\n",
       "    .dataframe thead th {\n",
       "        text-align: right;\n",
       "    }\n",
       "</style>\n",
       "<table border=\"1\" class=\"dataframe\">\n",
       "  <thead>\n",
       "    <tr style=\"text-align: right;\">\n",
       "      <th></th>\n",
       "      <th>LOCATION</th>\n",
       "      <th>INDICATOR</th>\n",
       "      <th>SUBJECT</th>\n",
       "      <th>MEASURE</th>\n",
       "      <th>FREQUENCY</th>\n",
       "      <th>TIME</th>\n",
       "      <th>Value</th>\n",
       "      <th>Flag Codes</th>\n",
       "    </tr>\n",
       "  </thead>\n",
       "  <tbody>\n",
       "    <tr>\n",
       "      <th>0</th>\n",
       "      <td>AUS</td>\n",
       "      <td>RENEWABLE</td>\n",
       "      <td>TOT</td>\n",
       "      <td>KTOE</td>\n",
       "      <td>A</td>\n",
       "      <td>1960</td>\n",
       "      <td>4436.932</td>\n",
       "      <td>NaN</td>\n",
       "    </tr>\n",
       "    <tr>\n",
       "      <th>1</th>\n",
       "      <td>AUS</td>\n",
       "      <td>RENEWABLE</td>\n",
       "      <td>TOT</td>\n",
       "      <td>KTOE</td>\n",
       "      <td>A</td>\n",
       "      <td>1961</td>\n",
       "      <td>4490.510</td>\n",
       "      <td>NaN</td>\n",
       "    </tr>\n",
       "    <tr>\n",
       "      <th>2</th>\n",
       "      <td>AUS</td>\n",
       "      <td>RENEWABLE</td>\n",
       "      <td>TOT</td>\n",
       "      <td>KTOE</td>\n",
       "      <td>A</td>\n",
       "      <td>1962</td>\n",
       "      <td>4407.097</td>\n",
       "      <td>NaN</td>\n",
       "    </tr>\n",
       "    <tr>\n",
       "      <th>3</th>\n",
       "      <td>AUS</td>\n",
       "      <td>RENEWABLE</td>\n",
       "      <td>TOT</td>\n",
       "      <td>KTOE</td>\n",
       "      <td>A</td>\n",
       "      <td>1963</td>\n",
       "      <td>4628.738</td>\n",
       "      <td>NaN</td>\n",
       "    </tr>\n",
       "    <tr>\n",
       "      <th>4</th>\n",
       "      <td>AUS</td>\n",
       "      <td>RENEWABLE</td>\n",
       "      <td>TOT</td>\n",
       "      <td>KTOE</td>\n",
       "      <td>A</td>\n",
       "      <td>1964</td>\n",
       "      <td>4497.396</td>\n",
       "      <td>NaN</td>\n",
       "    </tr>\n",
       "  </tbody>\n",
       "</table>\n",
       "</div>"
      ],
      "text/plain": [
       "  LOCATION  INDICATOR SUBJECT MEASURE FREQUENCY  TIME     Value Flag Codes\n",
       "0      AUS  RENEWABLE     TOT    KTOE         A  1960  4436.932        NaN\n",
       "1      AUS  RENEWABLE     TOT    KTOE         A  1961  4490.510        NaN\n",
       "2      AUS  RENEWABLE     TOT    KTOE         A  1962  4407.097        NaN\n",
       "3      AUS  RENEWABLE     TOT    KTOE         A  1963  4628.738        NaN\n",
       "4      AUS  RENEWABLE     TOT    KTOE         A  1964  4497.396        NaN"
      ]
     },
     "execution_count": 49,
     "metadata": {},
     "output_type": "execute_result"
    }
   ],
   "source": [
    "df_general = pd.read_csv(\"files/renewable_energy.csv\")\n",
    "df_general.head()"
   ]
  },
  {
   "cell_type": "code",
   "execution_count": 22,
   "id": "68b08455",
   "metadata": {},
   "outputs": [
    {
     "name": "stdout",
     "output_type": "stream",
     "text": [
      "<class 'pandas.core.frame.DataFrame'>\n",
      "RangeIndex: 15904 entries, 0 to 15903\n",
      "Data columns (total 8 columns):\n",
      " #   Column      Non-Null Count  Dtype  \n",
      "---  ------      --------------  -----  \n",
      " 0   LOCATION    15904 non-null  object \n",
      " 1   INDICATOR   15904 non-null  object \n",
      " 2   SUBJECT     15904 non-null  object \n",
      " 3   MEASURE     15904 non-null  object \n",
      " 4   FREQUENCY   15904 non-null  object \n",
      " 5   TIME        15904 non-null  int64  \n",
      " 6   Value       12017 non-null  float64\n",
      " 7   Flag Codes  3887 non-null   object \n",
      "dtypes: float64(1), int64(1), object(6)\n",
      "memory usage: 994.1+ KB\n"
     ]
    }
   ],
   "source": [
    "df_general.info()"
   ]
  },
  {
   "cell_type": "code",
   "execution_count": 7,
   "id": "3730f143",
   "metadata": {},
   "outputs": [
    {
     "data": {
      "text/plain": [
       "LOCATION       0.000000\n",
       "INDICATOR      0.000000\n",
       "SUBJECT        0.000000\n",
       "MEASURE        0.000000\n",
       "FREQUENCY      0.000000\n",
       "TIME           0.000000\n",
       "Value         24.440392\n",
       "Flag Codes    75.559608\n",
       "dtype: float64"
      ]
     },
     "execution_count": 7,
     "metadata": {},
     "output_type": "execute_result"
    }
   ],
   "source": [
    "df_general.isna().sum()/df_general.shape[0]*100"
   ]
  },
  {
   "cell_type": "code",
   "execution_count": 51,
   "id": "05a4574e",
   "metadata": {},
   "outputs": [
    {
     "data": {
      "text/plain": [
       "LOCATION       0.000000\n",
       "INDICATOR      0.000000\n",
       "SUBJECT        0.000000\n",
       "MEASURE        0.000000\n",
       "FREQUENCY      0.000000\n",
       "TIME           0.000000\n",
       "Value         12.185614\n",
       "Flag Codes    37.814386\n",
       "dtype: float64"
      ]
     },
     "execution_count": 51,
     "metadata": {},
     "output_type": "execute_result"
    }
   ],
   "source": [
    "df_general[df_general[\"MEASURE\"] == \"KTOE\"].isna().sum()/df_general.shape[0]*100"
   ]
  },
  {
   "cell_type": "code",
   "execution_count": 52,
   "id": "3eba7ccd",
   "metadata": {},
   "outputs": [
    {
     "data": {
      "text/plain": [
       "LOCATION       0.000000\n",
       "INDICATOR      0.000000\n",
       "SUBJECT        0.000000\n",
       "MEASURE        0.000000\n",
       "FREQUENCY      0.000000\n",
       "TIME           0.000000\n",
       "Value         12.254779\n",
       "Flag Codes    37.745221\n",
       "dtype: float64"
      ]
     },
     "execution_count": 52,
     "metadata": {},
     "output_type": "execute_result"
    }
   ],
   "source": [
    "df_general[df_general[\"MEASURE\"] != \"KTOE\"].isna().sum()/df_general.shape[0]*100"
   ]
  },
  {
   "cell_type": "code",
   "execution_count": null,
   "id": "ee3195ab",
   "metadata": {},
   "outputs": [
    {
     "data": {
      "text/plain": [
       "75.55960764587525"
      ]
     },
     "execution_count": 6,
     "metadata": {},
     "output_type": "execute_result"
    }
   ],
   "source": [
    "df_general[\"Flag Codes\"].isna().sum()/df_general.shape[0]*100 #esta columna puede quitarse"
   ]
  },
  {
   "cell_type": "code",
   "execution_count": 7,
   "id": "c6127936",
   "metadata": {},
   "outputs": [
    {
     "data": {
      "text/html": [
       "<div>\n",
       "<style scoped>\n",
       "    .dataframe tbody tr th:only-of-type {\n",
       "        vertical-align: middle;\n",
       "    }\n",
       "\n",
       "    .dataframe tbody tr th {\n",
       "        vertical-align: top;\n",
       "    }\n",
       "\n",
       "    .dataframe thead th {\n",
       "        text-align: right;\n",
       "    }\n",
       "</style>\n",
       "<table border=\"1\" class=\"dataframe\">\n",
       "  <thead>\n",
       "    <tr style=\"text-align: right;\">\n",
       "      <th></th>\n",
       "      <th>LOCATION</th>\n",
       "      <th>INDICATOR</th>\n",
       "      <th>SUBJECT</th>\n",
       "      <th>MEASURE</th>\n",
       "      <th>FREQUENCY</th>\n",
       "      <th>TIME</th>\n",
       "      <th>Value</th>\n",
       "      <th>Flag Codes</th>\n",
       "    </tr>\n",
       "  </thead>\n",
       "  <tbody>\n",
       "    <tr>\n",
       "      <th>7952</th>\n",
       "      <td>AUS</td>\n",
       "      <td>RENEWABLE</td>\n",
       "      <td>TOT</td>\n",
       "      <td>PC_PRYENRGSUPPLY</td>\n",
       "      <td>A</td>\n",
       "      <td>1960</td>\n",
       "      <td>14.09</td>\n",
       "      <td>NaN</td>\n",
       "    </tr>\n",
       "    <tr>\n",
       "      <th>7953</th>\n",
       "      <td>AUS</td>\n",
       "      <td>RENEWABLE</td>\n",
       "      <td>TOT</td>\n",
       "      <td>PC_PRYENRGSUPPLY</td>\n",
       "      <td>A</td>\n",
       "      <td>1961</td>\n",
       "      <td>13.75</td>\n",
       "      <td>NaN</td>\n",
       "    </tr>\n",
       "    <tr>\n",
       "      <th>7954</th>\n",
       "      <td>AUS</td>\n",
       "      <td>RENEWABLE</td>\n",
       "      <td>TOT</td>\n",
       "      <td>PC_PRYENRGSUPPLY</td>\n",
       "      <td>A</td>\n",
       "      <td>1962</td>\n",
       "      <td>12.93</td>\n",
       "      <td>NaN</td>\n",
       "    </tr>\n",
       "    <tr>\n",
       "      <th>7955</th>\n",
       "      <td>AUS</td>\n",
       "      <td>RENEWABLE</td>\n",
       "      <td>TOT</td>\n",
       "      <td>PC_PRYENRGSUPPLY</td>\n",
       "      <td>A</td>\n",
       "      <td>1963</td>\n",
       "      <td>12.87</td>\n",
       "      <td>NaN</td>\n",
       "    </tr>\n",
       "    <tr>\n",
       "      <th>7956</th>\n",
       "      <td>AUS</td>\n",
       "      <td>RENEWABLE</td>\n",
       "      <td>TOT</td>\n",
       "      <td>PC_PRYENRGSUPPLY</td>\n",
       "      <td>A</td>\n",
       "      <td>1964</td>\n",
       "      <td>12.02</td>\n",
       "      <td>NaN</td>\n",
       "    </tr>\n",
       "    <tr>\n",
       "      <th>...</th>\n",
       "      <td>...</td>\n",
       "      <td>...</td>\n",
       "      <td>...</td>\n",
       "      <td>...</td>\n",
       "      <td>...</td>\n",
       "      <td>...</td>\n",
       "      <td>...</td>\n",
       "      <td>...</td>\n",
       "    </tr>\n",
       "    <tr>\n",
       "      <th>15899</th>\n",
       "      <td>OECD</td>\n",
       "      <td>RENEWABLE</td>\n",
       "      <td>TOT</td>\n",
       "      <td>PC_PRYENRGSUPPLY</td>\n",
       "      <td>A</td>\n",
       "      <td>2011</td>\n",
       "      <td>8.15</td>\n",
       "      <td>NaN</td>\n",
       "    </tr>\n",
       "    <tr>\n",
       "      <th>15900</th>\n",
       "      <td>OECD</td>\n",
       "      <td>RENEWABLE</td>\n",
       "      <td>TOT</td>\n",
       "      <td>PC_PRYENRGSUPPLY</td>\n",
       "      <td>A</td>\n",
       "      <td>2012</td>\n",
       "      <td>8.71</td>\n",
       "      <td>NaN</td>\n",
       "    </tr>\n",
       "    <tr>\n",
       "      <th>15901</th>\n",
       "      <td>OECD</td>\n",
       "      <td>RENEWABLE</td>\n",
       "      <td>TOT</td>\n",
       "      <td>PC_PRYENRGSUPPLY</td>\n",
       "      <td>A</td>\n",
       "      <td>2013</td>\n",
       "      <td>9.16</td>\n",
       "      <td>NaN</td>\n",
       "    </tr>\n",
       "    <tr>\n",
       "      <th>15902</th>\n",
       "      <td>OECD</td>\n",
       "      <td>RENEWABLE</td>\n",
       "      <td>TOT</td>\n",
       "      <td>PC_PRYENRGSUPPLY</td>\n",
       "      <td>A</td>\n",
       "      <td>2014</td>\n",
       "      <td>9.38</td>\n",
       "      <td>NaN</td>\n",
       "    </tr>\n",
       "    <tr>\n",
       "      <th>15903</th>\n",
       "      <td>OECD</td>\n",
       "      <td>RENEWABLE</td>\n",
       "      <td>TOT</td>\n",
       "      <td>PC_PRYENRGSUPPLY</td>\n",
       "      <td>A</td>\n",
       "      <td>2015</td>\n",
       "      <td>9.64</td>\n",
       "      <td>NaN</td>\n",
       "    </tr>\n",
       "  </tbody>\n",
       "</table>\n",
       "<p>7952 rows × 8 columns</p>\n",
       "</div>"
      ],
      "text/plain": [
       "      LOCATION  INDICATOR SUBJECT           MEASURE FREQUENCY  TIME  Value  \\\n",
       "7952       AUS  RENEWABLE     TOT  PC_PRYENRGSUPPLY         A  1960  14.09   \n",
       "7953       AUS  RENEWABLE     TOT  PC_PRYENRGSUPPLY         A  1961  13.75   \n",
       "7954       AUS  RENEWABLE     TOT  PC_PRYENRGSUPPLY         A  1962  12.93   \n",
       "7955       AUS  RENEWABLE     TOT  PC_PRYENRGSUPPLY         A  1963  12.87   \n",
       "7956       AUS  RENEWABLE     TOT  PC_PRYENRGSUPPLY         A  1964  12.02   \n",
       "...        ...        ...     ...               ...       ...   ...    ...   \n",
       "15899     OECD  RENEWABLE     TOT  PC_PRYENRGSUPPLY         A  2011   8.15   \n",
       "15900     OECD  RENEWABLE     TOT  PC_PRYENRGSUPPLY         A  2012   8.71   \n",
       "15901     OECD  RENEWABLE     TOT  PC_PRYENRGSUPPLY         A  2013   9.16   \n",
       "15902     OECD  RENEWABLE     TOT  PC_PRYENRGSUPPLY         A  2014   9.38   \n",
       "15903     OECD  RENEWABLE     TOT  PC_PRYENRGSUPPLY         A  2015   9.64   \n",
       "\n",
       "      Flag Codes  \n",
       "7952         NaN  \n",
       "7953         NaN  \n",
       "7954         NaN  \n",
       "7955         NaN  \n",
       "7956         NaN  \n",
       "...          ...  \n",
       "15899        NaN  \n",
       "15900        NaN  \n",
       "15901        NaN  \n",
       "15902        NaN  \n",
       "15903        NaN  \n",
       "\n",
       "[7952 rows x 8 columns]"
      ]
     },
     "execution_count": 7,
     "metadata": {},
     "output_type": "execute_result"
    }
   ],
   "source": [
    "df_general[df_general[\"MEASURE\"] != \"KTOE\"]"
   ]
  },
  {
   "cell_type": "code",
   "execution_count": 53,
   "id": "2eae871f",
   "metadata": {},
   "outputs": [
    {
     "data": {
      "text/html": [
       "<div>\n",
       "<style scoped>\n",
       "    .dataframe tbody tr th:only-of-type {\n",
       "        vertical-align: middle;\n",
       "    }\n",
       "\n",
       "    .dataframe tbody tr th {\n",
       "        vertical-align: top;\n",
       "    }\n",
       "\n",
       "    .dataframe thead th {\n",
       "        text-align: right;\n",
       "    }\n",
       "</style>\n",
       "<table border=\"1\" class=\"dataframe\">\n",
       "  <thead>\n",
       "    <tr style=\"text-align: right;\">\n",
       "      <th></th>\n",
       "      <th>LOCATION</th>\n",
       "      <th>INDICATOR</th>\n",
       "      <th>SUBJECT</th>\n",
       "      <th>MEASURE</th>\n",
       "      <th>FREQUENCY</th>\n",
       "      <th>TIME</th>\n",
       "      <th>Value</th>\n",
       "      <th>Flag Codes</th>\n",
       "    </tr>\n",
       "  </thead>\n",
       "  <tbody>\n",
       "    <tr>\n",
       "      <th>7952</th>\n",
       "      <td>AUS</td>\n",
       "      <td>RENEWABLE</td>\n",
       "      <td>TOT</td>\n",
       "      <td>PC_PRYENRGSUPPLY</td>\n",
       "      <td>A</td>\n",
       "      <td>1960</td>\n",
       "      <td>14.09</td>\n",
       "      <td>NaN</td>\n",
       "    </tr>\n",
       "    <tr>\n",
       "      <th>7953</th>\n",
       "      <td>AUS</td>\n",
       "      <td>RENEWABLE</td>\n",
       "      <td>TOT</td>\n",
       "      <td>PC_PRYENRGSUPPLY</td>\n",
       "      <td>A</td>\n",
       "      <td>1961</td>\n",
       "      <td>13.75</td>\n",
       "      <td>NaN</td>\n",
       "    </tr>\n",
       "    <tr>\n",
       "      <th>7954</th>\n",
       "      <td>AUS</td>\n",
       "      <td>RENEWABLE</td>\n",
       "      <td>TOT</td>\n",
       "      <td>PC_PRYENRGSUPPLY</td>\n",
       "      <td>A</td>\n",
       "      <td>1962</td>\n",
       "      <td>12.93</td>\n",
       "      <td>NaN</td>\n",
       "    </tr>\n",
       "    <tr>\n",
       "      <th>7955</th>\n",
       "      <td>AUS</td>\n",
       "      <td>RENEWABLE</td>\n",
       "      <td>TOT</td>\n",
       "      <td>PC_PRYENRGSUPPLY</td>\n",
       "      <td>A</td>\n",
       "      <td>1963</td>\n",
       "      <td>12.87</td>\n",
       "      <td>NaN</td>\n",
       "    </tr>\n",
       "    <tr>\n",
       "      <th>7956</th>\n",
       "      <td>AUS</td>\n",
       "      <td>RENEWABLE</td>\n",
       "      <td>TOT</td>\n",
       "      <td>PC_PRYENRGSUPPLY</td>\n",
       "      <td>A</td>\n",
       "      <td>1964</td>\n",
       "      <td>12.02</td>\n",
       "      <td>NaN</td>\n",
       "    </tr>\n",
       "  </tbody>\n",
       "</table>\n",
       "</div>"
      ],
      "text/plain": [
       "     LOCATION  INDICATOR SUBJECT           MEASURE FREQUENCY  TIME  Value  \\\n",
       "7952      AUS  RENEWABLE     TOT  PC_PRYENRGSUPPLY         A  1960  14.09   \n",
       "7953      AUS  RENEWABLE     TOT  PC_PRYENRGSUPPLY         A  1961  13.75   \n",
       "7954      AUS  RENEWABLE     TOT  PC_PRYENRGSUPPLY         A  1962  12.93   \n",
       "7955      AUS  RENEWABLE     TOT  PC_PRYENRGSUPPLY         A  1963  12.87   \n",
       "7956      AUS  RENEWABLE     TOT  PC_PRYENRGSUPPLY         A  1964  12.02   \n",
       "\n",
       "     Flag Codes  \n",
       "7952        NaN  \n",
       "7953        NaN  \n",
       "7954        NaN  \n",
       "7955        NaN  \n",
       "7956        NaN  "
      ]
     },
     "execution_count": 53,
     "metadata": {},
     "output_type": "execute_result"
    }
   ],
   "source": [
    "df_general[(df_general[\"MEASURE\"] != \"KTOE\") & (df_general[\"LOCATION\"] == \"AUS\")].head()"
   ]
  },
  {
   "cell_type": "code",
   "execution_count": 54,
   "id": "10f79d13",
   "metadata": {},
   "outputs": [
    {
     "data": {
      "text/plain": [
       "np.int64(0)"
      ]
     },
     "execution_count": 54,
     "metadata": {},
     "output_type": "execute_result"
    }
   ],
   "source": [
    "df_general.duplicated().sum()"
   ]
  },
  {
   "cell_type": "markdown",
   "id": "ff461fc2",
   "metadata": {},
   "source": [
    "**Columnas a eliminar** -> INDICATOR, MEASURE, Frecuency, Subject, Flag Codes. \n",
    "\n",
    "**General** -> Unificar nombres de columnas y Value que sea más descriptivo. "
   ]
  },
  {
   "cell_type": "code",
   "execution_count": 55,
   "id": "fe17952c",
   "metadata": {},
   "outputs": [],
   "source": [
    "df_general.columns = df_general.columns.str.lower().str.replace(' ', '_').str.strip()"
   ]
  },
  {
   "cell_type": "code",
   "execution_count": 56,
   "id": "f1ec076f",
   "metadata": {},
   "outputs": [
    {
     "data": {
      "text/html": [
       "<div>\n",
       "<style scoped>\n",
       "    .dataframe tbody tr th:only-of-type {\n",
       "        vertical-align: middle;\n",
       "    }\n",
       "\n",
       "    .dataframe tbody tr th {\n",
       "        vertical-align: top;\n",
       "    }\n",
       "\n",
       "    .dataframe thead th {\n",
       "        text-align: right;\n",
       "    }\n",
       "</style>\n",
       "<table border=\"1\" class=\"dataframe\">\n",
       "  <thead>\n",
       "    <tr style=\"text-align: right;\">\n",
       "      <th></th>\n",
       "      <th>location</th>\n",
       "      <th>indicator</th>\n",
       "      <th>subject</th>\n",
       "      <th>measure</th>\n",
       "      <th>frequency</th>\n",
       "      <th>time</th>\n",
       "      <th>value</th>\n",
       "      <th>flag_codes</th>\n",
       "    </tr>\n",
       "  </thead>\n",
       "  <tbody>\n",
       "    <tr>\n",
       "      <th>0</th>\n",
       "      <td>AUS</td>\n",
       "      <td>RENEWABLE</td>\n",
       "      <td>TOT</td>\n",
       "      <td>KTOE</td>\n",
       "      <td>A</td>\n",
       "      <td>1960</td>\n",
       "      <td>4436.932</td>\n",
       "      <td>NaN</td>\n",
       "    </tr>\n",
       "    <tr>\n",
       "      <th>1</th>\n",
       "      <td>AUS</td>\n",
       "      <td>RENEWABLE</td>\n",
       "      <td>TOT</td>\n",
       "      <td>KTOE</td>\n",
       "      <td>A</td>\n",
       "      <td>1961</td>\n",
       "      <td>4490.510</td>\n",
       "      <td>NaN</td>\n",
       "    </tr>\n",
       "    <tr>\n",
       "      <th>2</th>\n",
       "      <td>AUS</td>\n",
       "      <td>RENEWABLE</td>\n",
       "      <td>TOT</td>\n",
       "      <td>KTOE</td>\n",
       "      <td>A</td>\n",
       "      <td>1962</td>\n",
       "      <td>4407.097</td>\n",
       "      <td>NaN</td>\n",
       "    </tr>\n",
       "    <tr>\n",
       "      <th>3</th>\n",
       "      <td>AUS</td>\n",
       "      <td>RENEWABLE</td>\n",
       "      <td>TOT</td>\n",
       "      <td>KTOE</td>\n",
       "      <td>A</td>\n",
       "      <td>1963</td>\n",
       "      <td>4628.738</td>\n",
       "      <td>NaN</td>\n",
       "    </tr>\n",
       "    <tr>\n",
       "      <th>4</th>\n",
       "      <td>AUS</td>\n",
       "      <td>RENEWABLE</td>\n",
       "      <td>TOT</td>\n",
       "      <td>KTOE</td>\n",
       "      <td>A</td>\n",
       "      <td>1964</td>\n",
       "      <td>4497.396</td>\n",
       "      <td>NaN</td>\n",
       "    </tr>\n",
       "  </tbody>\n",
       "</table>\n",
       "</div>"
      ],
      "text/plain": [
       "  location  indicator subject measure frequency  time     value flag_codes\n",
       "0      AUS  RENEWABLE     TOT    KTOE         A  1960  4436.932        NaN\n",
       "1      AUS  RENEWABLE     TOT    KTOE         A  1961  4490.510        NaN\n",
       "2      AUS  RENEWABLE     TOT    KTOE         A  1962  4407.097        NaN\n",
       "3      AUS  RENEWABLE     TOT    KTOE         A  1963  4628.738        NaN\n",
       "4      AUS  RENEWABLE     TOT    KTOE         A  1964  4497.396        NaN"
      ]
     },
     "execution_count": 56,
     "metadata": {},
     "output_type": "execute_result"
    }
   ],
   "source": [
    "df_general.head()"
   ]
  },
  {
   "cell_type": "code",
   "execution_count": 57,
   "id": "b2f9132e",
   "metadata": {},
   "outputs": [
    {
     "data": {
      "text/plain": [
       "Index(['location', 'indicator', 'subject', 'measure', 'frequency', 'time',\n",
       "       'value', 'flag_codes'],\n",
       "      dtype='object')"
      ]
     },
     "execution_count": 57,
     "metadata": {},
     "output_type": "execute_result"
    }
   ],
   "source": [
    "df_general.columns"
   ]
  },
  {
   "cell_type": "code",
   "execution_count": 34,
   "id": "e93b2755",
   "metadata": {},
   "outputs": [
    {
     "name": "stdout",
     "output_type": "stream",
     "text": [
      "location\n",
      "['AUS' 'AUT' 'BEL' 'CAN' 'CZE' 'DNK' 'FIN' 'FRA' 'DEU' 'GRC' 'HUN' 'ISL'\n",
      " 'IRL' 'ITA' 'JPN' 'KOR' 'LUX' 'MEX' 'NLD' 'NZL' 'NOR' 'POL' 'PRT' 'SVK'\n",
      " 'ESP' 'SWE' 'CHE' 'TUR' 'GBR' 'USA' 'OEU' 'ALB' 'DZA' 'ARG' 'ARM' 'AZE'\n",
      " 'BGD' 'BLR' 'BIH' 'BRA' 'BRN' 'BGR' 'KHM' 'CHL' 'CHN' 'COL' 'HRV' 'CYP'\n",
      " 'EGY' 'EST' 'ETH' 'GEO' 'GHA' 'HTI' 'HKG' 'IND' 'IDN' 'IRN' 'ISR' 'KAZ'\n",
      " 'LVA' 'LTU' 'MKD' 'MYS' 'MLT' 'MDA' 'MOZ' 'NGA' 'PAK' 'PRY' 'PER' 'PHL'\n",
      " 'ROU' 'RUS' 'SAU' 'SGP' 'SVN' 'ZAF' 'SDN' 'TWN' 'TZA' 'THA' 'UKR' 'ARE'\n",
      " 'URY' 'VNM' 'ZMB' 'WLD' 'SRB' 'MNE' 'G20' 'EU28' 'OECD' 'AGO' 'BHR' 'BEN'\n",
      " 'BOL' 'BWA' 'CMR' 'COG' 'CRI' 'CIV' 'CUB' 'PRK' 'COD' 'DOM' 'ECU' 'SLV'\n",
      " 'ERI' 'GAB' 'GTM' 'HND' 'IRQ' 'JAM' 'JOR' 'KEN' 'KWT' 'KGZ' 'LBN' 'LBY'\n",
      " 'MNG' 'MAR' 'MMR' 'NAM' 'NPL' 'NIC' 'NER' 'OMN' 'PAN' 'QAT' 'SEN' 'LKA'\n",
      " 'SYR' 'TJK' 'TGO' 'TTO' 'TUN' 'TKM' 'UZB' 'VEN' 'YEM' 'ZWE']\n",
      "--------------------------------------------------\n",
      "indicator\n",
      "['RENEWABLE']\n",
      "--------------------------------------------------\n",
      "subject\n",
      "['TOT']\n",
      "--------------------------------------------------\n",
      "measure\n",
      "['KTOE' 'PC_PRYENRGSUPPLY']\n",
      "--------------------------------------------------\n",
      "frequency\n",
      "['A']\n",
      "--------------------------------------------------\n",
      "time\n",
      "[1960 1961 1962 1963 1964 1965 1966 1967 1968 1969 1970 1971 1972 1973\n",
      " 1974 1975 1976 1977 1978 1979 1980 1981 1982 1983 1984 1985 1986 1987\n",
      " 1988 1989 1990 1991 1992 1993 1994 1995 1996 1997 1998 1999 2000 2001\n",
      " 2002 2003 2004 2005 2006 2007 2008 2009 2010 2011 2012 2013 2014 2015]\n",
      "--------------------------------------------------\n",
      "value\n",
      "[4436.932 4490.51  4407.097 ...    7.78     8.15     8.71 ]\n",
      "--------------------------------------------------\n",
      "flag_codes\n",
      "[nan 'L']\n",
      "--------------------------------------------------\n"
     ]
    }
   ],
   "source": [
    "for col in df_general.columns:\n",
    "    print(col)\n",
    "    print(df_general[col].unique())\n",
    "    print('-'*50)"
   ]
  },
  {
   "cell_type": "code",
   "execution_count": 58,
   "id": "7d78bc4d",
   "metadata": {},
   "outputs": [],
   "source": [
    "df_general = df_general[df_general[\"measure\"] == \"PC_PRYENRGSUPPLY\"]"
   ]
  },
  {
   "cell_type": "code",
   "execution_count": 59,
   "id": "75fe0719",
   "metadata": {},
   "outputs": [
    {
     "data": {
      "text/html": [
       "<div>\n",
       "<style scoped>\n",
       "    .dataframe tbody tr th:only-of-type {\n",
       "        vertical-align: middle;\n",
       "    }\n",
       "\n",
       "    .dataframe tbody tr th {\n",
       "        vertical-align: top;\n",
       "    }\n",
       "\n",
       "    .dataframe thead th {\n",
       "        text-align: right;\n",
       "    }\n",
       "</style>\n",
       "<table border=\"1\" class=\"dataframe\">\n",
       "  <thead>\n",
       "    <tr style=\"text-align: right;\">\n",
       "      <th></th>\n",
       "      <th>location</th>\n",
       "      <th>indicator</th>\n",
       "      <th>subject</th>\n",
       "      <th>measure</th>\n",
       "      <th>frequency</th>\n",
       "      <th>time</th>\n",
       "      <th>value</th>\n",
       "      <th>flag_codes</th>\n",
       "    </tr>\n",
       "  </thead>\n",
       "  <tbody>\n",
       "    <tr>\n",
       "      <th>7952</th>\n",
       "      <td>AUS</td>\n",
       "      <td>RENEWABLE</td>\n",
       "      <td>TOT</td>\n",
       "      <td>PC_PRYENRGSUPPLY</td>\n",
       "      <td>A</td>\n",
       "      <td>1960</td>\n",
       "      <td>14.09</td>\n",
       "      <td>NaN</td>\n",
       "    </tr>\n",
       "  </tbody>\n",
       "</table>\n",
       "</div>"
      ],
      "text/plain": [
       "     location  indicator subject           measure frequency  time  value  \\\n",
       "7952      AUS  RENEWABLE     TOT  PC_PRYENRGSUPPLY         A  1960  14.09   \n",
       "\n",
       "     flag_codes  \n",
       "7952        NaN  "
      ]
     },
     "execution_count": 59,
     "metadata": {},
     "output_type": "execute_result"
    }
   ],
   "source": [
    "df_general.head(1)"
   ]
  },
  {
   "cell_type": "code",
   "execution_count": 60,
   "id": "5f8f67a4",
   "metadata": {},
   "outputs": [],
   "source": [
    "map = {'time': 'year', 'value': 'total_energy_supply'}"
   ]
  },
  {
   "cell_type": "code",
   "execution_count": 61,
   "id": "3de4fa1b",
   "metadata": {},
   "outputs": [],
   "source": [
    "df_general = df_general.rename(columns = map)"
   ]
  },
  {
   "cell_type": "code",
   "execution_count": 62,
   "id": "4b11fe6d",
   "metadata": {},
   "outputs": [],
   "source": [
    "df_general = df_general.drop(columns = ['indicator', 'subject', 'frequency', 'flag_codes', 'measure'])"
   ]
  },
  {
   "cell_type": "code",
   "execution_count": 63,
   "id": "a986b291",
   "metadata": {},
   "outputs": [
    {
     "data": {
      "text/html": [
       "<div>\n",
       "<style scoped>\n",
       "    .dataframe tbody tr th:only-of-type {\n",
       "        vertical-align: middle;\n",
       "    }\n",
       "\n",
       "    .dataframe tbody tr th {\n",
       "        vertical-align: top;\n",
       "    }\n",
       "\n",
       "    .dataframe thead th {\n",
       "        text-align: right;\n",
       "    }\n",
       "</style>\n",
       "<table border=\"1\" class=\"dataframe\">\n",
       "  <thead>\n",
       "    <tr style=\"text-align: right;\">\n",
       "      <th></th>\n",
       "      <th>location</th>\n",
       "      <th>year</th>\n",
       "      <th>total_energy_supply</th>\n",
       "    </tr>\n",
       "  </thead>\n",
       "  <tbody>\n",
       "    <tr>\n",
       "      <th>15471</th>\n",
       "      <td>ZMB</td>\n",
       "      <td>1975</td>\n",
       "      <td>76.59</td>\n",
       "    </tr>\n",
       "    <tr>\n",
       "      <th>10947</th>\n",
       "      <td>CRI</td>\n",
       "      <td>1987</td>\n",
       "      <td>44.27</td>\n",
       "    </tr>\n",
       "    <tr>\n",
       "      <th>11720</th>\n",
       "      <td>GAB</td>\n",
       "      <td>1976</td>\n",
       "      <td>44.85</td>\n",
       "    </tr>\n",
       "    <tr>\n",
       "      <th>12982</th>\n",
       "      <td>MKD</td>\n",
       "      <td>2006</td>\n",
       "      <td>10.84</td>\n",
       "    </tr>\n",
       "    <tr>\n",
       "      <th>12759</th>\n",
       "      <td>LVA</td>\n",
       "      <td>2007</td>\n",
       "      <td>29.34</td>\n",
       "    </tr>\n",
       "  </tbody>\n",
       "</table>\n",
       "</div>"
      ],
      "text/plain": [
       "      location  year  total_energy_supply\n",
       "15471      ZMB  1975                76.59\n",
       "10947      CRI  1987                44.27\n",
       "11720      GAB  1976                44.85\n",
       "12982      MKD  2006                10.84\n",
       "12759      LVA  2007                29.34"
      ]
     },
     "execution_count": 63,
     "metadata": {},
     "output_type": "execute_result"
    }
   ],
   "source": [
    "df_general.sample(5)"
   ]
  },
  {
   "cell_type": "code",
   "execution_count": 64,
   "id": "6d52b56c",
   "metadata": {},
   "outputs": [],
   "source": [
    "df_general.to_csv('files/renewable_energy_clean.csv', index = False)"
   ]
  },
  {
   "cell_type": "markdown",
   "id": "90981274",
   "metadata": {},
   "source": [
    "## Dataset: Renewable Energy World Wide : 1965~2022 \n",
    "[Fuente](https://www.kaggle.com/datasets/belayethossainds/renewable-energy-world-wide-19652022/data?select=01+renewable-share-energy.csv)"
   ]
  },
  {
   "cell_type": "markdown",
   "id": "7a314899",
   "metadata": {},
   "source": [
    "`12-solar-energy-consumption.csv`:"
   ]
  },
  {
   "cell_type": "code",
   "execution_count": 70,
   "id": "f0d512b2",
   "metadata": {},
   "outputs": [
    {
     "data": {
      "text/html": [
       "<div>\n",
       "<style scoped>\n",
       "    .dataframe tbody tr th:only-of-type {\n",
       "        vertical-align: middle;\n",
       "    }\n",
       "\n",
       "    .dataframe tbody tr th {\n",
       "        vertical-align: top;\n",
       "    }\n",
       "\n",
       "    .dataframe thead th {\n",
       "        text-align: right;\n",
       "    }\n",
       "</style>\n",
       "<table border=\"1\" class=\"dataframe\">\n",
       "  <thead>\n",
       "    <tr style=\"text-align: right;\">\n",
       "      <th></th>\n",
       "      <th>Entity</th>\n",
       "      <th>Code</th>\n",
       "      <th>Year</th>\n",
       "      <th>Electricity from solar (TWh)</th>\n",
       "    </tr>\n",
       "  </thead>\n",
       "  <tbody>\n",
       "    <tr>\n",
       "      <th>0</th>\n",
       "      <td>Afghanistan</td>\n",
       "      <td>AFG</td>\n",
       "      <td>2000</td>\n",
       "      <td>0.0</td>\n",
       "    </tr>\n",
       "    <tr>\n",
       "      <th>1</th>\n",
       "      <td>Afghanistan</td>\n",
       "      <td>AFG</td>\n",
       "      <td>2001</td>\n",
       "      <td>0.0</td>\n",
       "    </tr>\n",
       "    <tr>\n",
       "      <th>2</th>\n",
       "      <td>Afghanistan</td>\n",
       "      <td>AFG</td>\n",
       "      <td>2002</td>\n",
       "      <td>0.0</td>\n",
       "    </tr>\n",
       "    <tr>\n",
       "      <th>3</th>\n",
       "      <td>Afghanistan</td>\n",
       "      <td>AFG</td>\n",
       "      <td>2003</td>\n",
       "      <td>0.0</td>\n",
       "    </tr>\n",
       "    <tr>\n",
       "      <th>4</th>\n",
       "      <td>Afghanistan</td>\n",
       "      <td>AFG</td>\n",
       "      <td>2004</td>\n",
       "      <td>0.0</td>\n",
       "    </tr>\n",
       "  </tbody>\n",
       "</table>\n",
       "</div>"
      ],
      "text/plain": [
       "        Entity Code  Year  Electricity from solar (TWh)\n",
       "0  Afghanistan  AFG  2000                           0.0\n",
       "1  Afghanistan  AFG  2001                           0.0\n",
       "2  Afghanistan  AFG  2002                           0.0\n",
       "3  Afghanistan  AFG  2003                           0.0\n",
       "4  Afghanistan  AFG  2004                           0.0"
      ]
     },
     "execution_count": 70,
     "metadata": {},
     "output_type": "execute_result"
    }
   ],
   "source": [
    "df_solar_consump = pd.read_csv(\"files/12-solar-energy-consumption.csv\")\n",
    "\n",
    "df_solar_consump.head()"
   ]
  },
  {
   "cell_type": "code",
   "execution_count": 71,
   "id": "c95006eb",
   "metadata": {},
   "outputs": [
    {
     "name": "stdout",
     "output_type": "stream",
     "text": [
      "<class 'pandas.core.frame.DataFrame'>\n",
      "RangeIndex: 8683 entries, 0 to 8682\n",
      "Data columns (total 4 columns):\n",
      " #   Column                        Non-Null Count  Dtype  \n",
      "---  ------                        --------------  -----  \n",
      " 0   Entity                        8683 non-null   object \n",
      " 1   Code                          7227 non-null   object \n",
      " 2   Year                          8683 non-null   int64  \n",
      " 3   Electricity from solar (TWh)  8683 non-null   float64\n",
      "dtypes: float64(1), int64(1), object(2)\n",
      "memory usage: 271.5+ KB\n"
     ]
    }
   ],
   "source": [
    "df_solar_consump.info()"
   ]
  },
  {
   "cell_type": "code",
   "execution_count": 72,
   "id": "64f6f0e2",
   "metadata": {},
   "outputs": [
    {
     "data": {
      "text/plain": [
       "np.float64(16.768398019117818)"
      ]
     },
     "execution_count": 72,
     "metadata": {},
     "output_type": "execute_result"
    }
   ],
   "source": [
    "df_solar_consump[\"Code\"].isna().sum()/df_solar_consump.shape[0]*100"
   ]
  },
  {
   "cell_type": "code",
   "execution_count": 73,
   "id": "bc786bdb",
   "metadata": {},
   "outputs": [
    {
     "data": {
      "text/plain": [
       "Entity                           0.000000\n",
       "Code                            16.768398\n",
       "Year                             0.000000\n",
       "Electricity from solar (TWh)     0.000000\n",
       "dtype: float64"
      ]
     },
     "execution_count": 73,
     "metadata": {},
     "output_type": "execute_result"
    }
   ],
   "source": [
    "df_solar_consump.isna().sum()/df_solar_consump.shape[0]*100"
   ]
  },
  {
   "cell_type": "code",
   "execution_count": null,
   "id": "e4c00f0b",
   "metadata": {},
   "outputs": [
    {
     "data": {
      "text/html": [
       "<div>\n",
       "<style scoped>\n",
       "    .dataframe tbody tr th:only-of-type {\n",
       "        vertical-align: middle;\n",
       "    }\n",
       "\n",
       "    .dataframe tbody tr th {\n",
       "        vertical-align: top;\n",
       "    }\n",
       "\n",
       "    .dataframe thead th {\n",
       "        text-align: right;\n",
       "    }\n",
       "</style>\n",
       "<table border=\"1\" class=\"dataframe\">\n",
       "  <thead>\n",
       "    <tr style=\"text-align: right;\">\n",
       "      <th></th>\n",
       "      <th>Entity</th>\n",
       "      <th>Code</th>\n",
       "      <th>Year</th>\n",
       "      <th>Electricity from solar (TWh)</th>\n",
       "    </tr>\n",
       "  </thead>\n",
       "  <tbody>\n",
       "    <tr>\n",
       "      <th>0</th>\n",
       "      <td>Afghanistan</td>\n",
       "      <td>AFG</td>\n",
       "      <td>2000</td>\n",
       "      <td>0.00</td>\n",
       "    </tr>\n",
       "    <tr>\n",
       "      <th>1</th>\n",
       "      <td>Afghanistan</td>\n",
       "      <td>AFG</td>\n",
       "      <td>2001</td>\n",
       "      <td>0.00</td>\n",
       "    </tr>\n",
       "    <tr>\n",
       "      <th>2</th>\n",
       "      <td>Afghanistan</td>\n",
       "      <td>AFG</td>\n",
       "      <td>2002</td>\n",
       "      <td>0.00</td>\n",
       "    </tr>\n",
       "    <tr>\n",
       "      <th>3</th>\n",
       "      <td>Afghanistan</td>\n",
       "      <td>AFG</td>\n",
       "      <td>2003</td>\n",
       "      <td>0.00</td>\n",
       "    </tr>\n",
       "    <tr>\n",
       "      <th>4</th>\n",
       "      <td>Afghanistan</td>\n",
       "      <td>AFG</td>\n",
       "      <td>2004</td>\n",
       "      <td>0.00</td>\n",
       "    </tr>\n",
       "    <tr>\n",
       "      <th>...</th>\n",
       "      <td>...</td>\n",
       "      <td>...</td>\n",
       "      <td>...</td>\n",
       "      <td>...</td>\n",
       "    </tr>\n",
       "    <tr>\n",
       "      <th>8678</th>\n",
       "      <td>Zimbabwe</td>\n",
       "      <td>ZWE</td>\n",
       "      <td>2017</td>\n",
       "      <td>0.01</td>\n",
       "    </tr>\n",
       "    <tr>\n",
       "      <th>8679</th>\n",
       "      <td>Zimbabwe</td>\n",
       "      <td>ZWE</td>\n",
       "      <td>2018</td>\n",
       "      <td>0.02</td>\n",
       "    </tr>\n",
       "    <tr>\n",
       "      <th>8680</th>\n",
       "      <td>Zimbabwe</td>\n",
       "      <td>ZWE</td>\n",
       "      <td>2019</td>\n",
       "      <td>0.03</td>\n",
       "    </tr>\n",
       "    <tr>\n",
       "      <th>8681</th>\n",
       "      <td>Zimbabwe</td>\n",
       "      <td>ZWE</td>\n",
       "      <td>2020</td>\n",
       "      <td>0.03</td>\n",
       "    </tr>\n",
       "    <tr>\n",
       "      <th>8682</th>\n",
       "      <td>Zimbabwe</td>\n",
       "      <td>ZWE</td>\n",
       "      <td>2021</td>\n",
       "      <td>0.04</td>\n",
       "    </tr>\n",
       "  </tbody>\n",
       "</table>\n",
       "<p>7227 rows × 4 columns</p>\n",
       "</div>"
      ],
      "text/plain": [
       "           Entity Code  Year  Electricity from solar (TWh)\n",
       "0     Afghanistan  AFG  2000                          0.00\n",
       "1     Afghanistan  AFG  2001                          0.00\n",
       "2     Afghanistan  AFG  2002                          0.00\n",
       "3     Afghanistan  AFG  2003                          0.00\n",
       "4     Afghanistan  AFG  2004                          0.00\n",
       "...           ...  ...   ...                           ...\n",
       "8678     Zimbabwe  ZWE  2017                          0.01\n",
       "8679     Zimbabwe  ZWE  2018                          0.02\n",
       "8680     Zimbabwe  ZWE  2019                          0.03\n",
       "8681     Zimbabwe  ZWE  2020                          0.03\n",
       "8682     Zimbabwe  ZWE  2021                          0.04\n",
       "\n",
       "[7227 rows x 4 columns]"
      ]
     },
     "execution_count": 20,
     "metadata": {},
     "output_type": "execute_result"
    }
   ],
   "source": [
    "df_solar_consump[df_solar_consump[\"Code\"].notna()] "
   ]
  }
 ],
 "metadata": {
  "kernelspec": {
   "display_name": "promo49",
   "language": "python",
   "name": "python3"
  },
  "language_info": {
   "codemirror_mode": {
    "name": "ipython",
    "version": 3
   },
   "file_extension": ".py",
   "mimetype": "text/x-python",
   "name": "python",
   "nbconvert_exporter": "python",
   "pygments_lexer": "ipython3",
   "version": "3.11.11"
  }
 },
 "nbformat": 4,
 "nbformat_minor": 5
}
